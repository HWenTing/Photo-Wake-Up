{
 "cells": [
  {
   "cell_type": "code",
   "execution_count": 10,
   "metadata": {},
   "outputs": [],
   "source": [
    "import numpy as np\n",
    "import matplotlib.pyplot as plt\n",
    "import time\n",
    "%matplotlib inline\n",
    "import skimage.io as io\n",
    "import math\n",
    "import cv2\n",
    "import queue"
   ]
  },
  {
   "cell_type": "code",
   "execution_count": 11,
   "metadata": {},
   "outputs": [],
   "source": [
    "path = 'photo\\p0\\\\'"
   ]
  },
  {
   "cell_type": "code",
   "execution_count": 12,
   "metadata": {},
   "outputs": [
    {
     "data": {
      "text/plain": [
       "True"
      ]
     },
     "execution_count": 12,
     "metadata": {},
     "output_type": "execute_result"
    }
   ],
   "source": [
    "# 镜像翻转背部深度图\n",
    "img = cv2.imread(path+'back_newPng_origin.png')\n",
    "img2 = cv2.flip(img,1,dst=None)\n",
    "cv2.imwrite(path+'back_newPng_origin_jingxaing.png',img2)\n",
    "\n",
    "# img = cv2.imread(path+'tps_back_newPng_origin.png')\n",
    "# img2 = cv2.flip(img,1,dst=None)\n",
    "# cv2.imwrite(path+'tps_back_newPng_origin_jingxaing.png',img2)\n"
   ]
  },
  {
   "cell_type": "markdown",
   "metadata": {},
   "source": [
    "#### 平滑边缘"
   ]
  },
  {
   "cell_type": "code",
   "execution_count": 13,
   "metadata": {},
   "outputs": [],
   "source": [
    "import queue\n",
    "\n",
    "# 从中心点开始，bfs向外扩展，将变化大的点的深度值平滑\n",
    "# x,y为图片中心，img为图片深度值，gap为相邻元素深度值最大差，diff为深度值差合理范围\n",
    "def bfs_smooth(x,y,img,gap,diff):\n",
    "    q = queue.Queue()\n",
    "    visited = np.mat(np.zeros((x,y)))\n",
    "\n",
    "    mid_x = int(x/2)\n",
    "    mid_y = int(y/2)\n",
    "    q.put((mid_x,mid_y))\n",
    "    visited[mid_x,mid_y]=1\n",
    "    \n",
    "    while not q.empty():\n",
    "        cx,cy = q.get()\n",
    "        before = img[cx][cy]\n",
    "        for i in range(-1,2):\n",
    "            for j in range(-1,2):\n",
    "                new_x = cx+i\n",
    "                new_y = cy+j\n",
    "                if(new_x<x and new_y<y and img[new_x][new_y]!=0 and visited[new_x,new_y] == 0 ):\n",
    "                    visited[new_x,new_y] = 1\n",
    "                    q.put((new_x,new_y))\n",
    "\n",
    "                    if(abs(int(img[new_x][new_y])-int(before))<diff):\n",
    "                        pass\n",
    "                    elif(img[new_x][new_y]>before):\n",
    "                        img[new_x][new_y] = before+gap\n",
    "                    else:\n",
    "#                         img[new_x][new_y] = before-gap\n",
    "                        pass\n",
    "                    "
   ]
  },
  {
   "cell_type": "markdown",
   "metadata": {},
   "source": [
    "#### 预处理"
   ]
  },
  {
   "cell_type": "code",
   "execution_count": 14,
   "metadata": {},
   "outputs": [
    {
     "name": "stdout",
     "output_type": "stream",
     "text": [
      "-----------\n"
     ]
    }
   ],
   "source": [
    "img= cv2.imread(path+'newPng_origin.png',0)\n",
    "# img= cv2.imread('tps_newPng_origin.png',0)\n",
    "x,y=img.shape\n",
    "pointdepth=[]\n",
    "dp_matrix_value = np.mat(np.zeros((x,y)))\n",
    "\n",
    "bfs_smooth(x,y,img,2,8)\n",
    "\n",
    "count = 1\n",
    "for i in range(x):\n",
    "    for ii in range(y):\n",
    "        if img[i][ii]==0:\n",
    "            pass\n",
    "        else:\n",
    "            dp_matrix_value[i,ii] = count\n",
    "            count+=1\n",
    "            pointdepth.append([i,ii,img[i][ii]])\n",
    "            \n",
    "print(\"-----------\")\n",
    "\n",
    "back_img= cv2.imread(path+'back_newPng_origin_jingxaing.png',0)\n",
    "# back_img= cv2.imread('tps_back_newPng_origin_jingxaing.png',0)\n",
    "back_pointdepth=[]\n",
    "back_dp_matrix_value = np.mat(np.zeros((x,y)))\n",
    "count0 = count\n",
    "\n",
    "bfs_smooth(x,y,back_img,2,8)\n",
    "\n",
    "for i in range(x):\n",
    "    for ii in range(y):\n",
    "        if back_img[i][ii]==0:\n",
    "            pass\n",
    "        else:\n",
    "            back_dp_matrix_value[i,ii] = count\n",
    "            count+=1\n",
    "        \n",
    "            back_pointdepth.append([i,ii,285-back_img[i][ii]])"
   ]
  },
  {
   "cell_type": "code",
   "execution_count": 15,
   "metadata": {},
   "outputs": [
    {
     "name": "stdout",
     "output_type": "stream",
     "text": [
      "7214\n",
      "7214\n"
     ]
    }
   ],
   "source": [
    "print(len(back_pointdepth))\n",
    "print(len(pointdepth))"
   ]
  },
  {
   "cell_type": "code",
   "execution_count": 16,
   "metadata": {},
   "outputs": [],
   "source": [
    "def get_point(x,y,z，camera_factor,camera_cx,camera_cy,camera_fx,camera_fy):\n",
    "#     camera_factor 缩放因子\n",
    "#     camera_cx  相机位置\n",
    "#     camera_cy  相机位置\n",
    "#     camera_fx  相机焦距\n",
    "#     camera_fy  相机焦距 一般与camera_fx相等\n",
    "    \n",
    "#     camera_factor = 1;\n",
    "#     camera_cx = 78.4;\n",
    "#     camera_cy = 125.5;\n",
    "#     camera_fx = 560.0;\n",
    "#     camera_fy = 560.0;\n",
    "    \n",
    "    newz = z / camera_factor;\n",
    "    newx = (x - camera_cx) * newz / camera_fx;\n",
    "    newy = (y - camera_cy) * newz / camera_fy;\n",
    "    \n",
    "    f=3\n",
    "    return round(newx,f),round(newy,f),round(newz,f)\n"
   ]
  },
  {
   "cell_type": "code",
   "execution_count": 17,
   "metadata": {},
   "outputs": [],
   "source": [
    "# 存放边缘点，特殊处理\n",
    "data1 = np.load(path+'small_contours.npy')\n",
    "contours=[]\n",
    "for i in data1:\n",
    "    contours.append((i[0],i[1]))"
   ]
  },
  {
   "cell_type": "markdown",
   "metadata": {},
   "source": [
    "#### 写入obj文件"
   ]
  },
  {
   "cell_type": "code",
   "execution_count": 18,
   "metadata": {},
   "outputs": [],
   "source": [
    "rat = 0.7\n",
    "lenth = min(len(pointdepth),len(back_pointdepth))\n",
    "qurt=[]\n",
    "back_qurt=[]\n",
    "with open(path+r'b_rat285.obj','w+') as file:\n",
    "# with open(r'tps_b_rat.obj','w+') as file:\n",
    "    #几何体顶点\n",
    "    cout =0\n",
    "    for i in range(lenth):\n",
    "        q1 = pointdepth[i]\n",
    "        q2 = back_pointdepth[i]\n",
    "        if(q1[2]>q2[2]):\n",
    "            \n",
    "            mid = (q1[2]+q2[2])/2\n",
    "            pointdepth[i][2] = mid\n",
    "            back_pointdepth[i][2] = mid\n",
    "            \n",
    "        if (q1[1],q1[0]) in contours:\n",
    "            mid = (q1[2]+q2[2])/2\n",
    "            pointdepth[i][2] = mid\n",
    "            back_pointdepth[i][2] = mid\n",
    "            \n",
    "            \n",
    "    for q in pointdepth:\n",
    "        file.write('v '+str(q[0])+' '+str(q[1])+' '+str(q[2]*rat)+'\\n')\n",
    "        \n",
    "    for q in back_pointdepth:\n",
    "        file.write('v '+str(q[0])+' '+str(q[1])+' '+str(q[2]*rat)+'\\n')\n",
    "    \n",
    "\n",
    "\n",
    "        \n",
    "    #面\n",
    "    for i in range(x-1):\n",
    "        for ii in range(y-1):\n",
    "            if(img[i][ii]!=0 and img[i+1][ii]!=0 and img[i+1][ii+1]!=0 and img[i][ii+1]!=0):\n",
    "                qurt.append([dp_matrix_value[i,ii],dp_matrix_value[i+1,ii],dp_matrix_value[i+1,ii+1],dp_matrix_value[i,ii+1]])\n",
    "\n",
    "                \n",
    "#     124 234\n",
    "\n",
    "    for qu in qurt:\n",
    "        file.write('f '+str(int(qu[0]))+' '+str(int(qu[1]))+' '+str(int(qu[3]))+'\\n') \n",
    "        file.write('f '+str(int(qu[1]))+' '+str(int(qu[2]))+' '+str(int(qu[3]))+'\\n') \n",
    "        \n",
    "    \n",
    "        #面\n",
    "    for i in range(x-1):\n",
    "        for ii in range(y-1):\n",
    "            if(back_img[i][ii]!=0 and back_img[i+1][ii]!=0 and back_img[i+1][ii+1]!=0 and back_img[i][ii+1]!=0):\n",
    "                back_qurt.append([back_dp_matrix_value[i,ii],back_dp_matrix_value[i+1,ii],back_dp_matrix_value[i+1,ii+1],back_dp_matrix_value[i,ii+1]])\n",
    "\n",
    "                \n",
    "#     124 234\n",
    "\n",
    "    for qu in back_qurt:\n",
    "        file.write('f '+str(int(qu[0]))+' '+str(int(qu[1]))+' '+str(int(qu[3]))+'\\n') \n",
    "        file.write('f '+str(int(qu[1]))+' '+str(int(qu[2]))+' '+str(int(qu[3]))+'\\n') "
   ]
  },
  {
   "cell_type": "code",
   "execution_count": null,
   "metadata": {},
   "outputs": [],
   "source": []
  }
 ],
 "metadata": {
  "kernelspec": {
   "display_name": "Python 3",
   "language": "python",
   "name": "python3"
  },
  "language_info": {
   "codemirror_mode": {
    "name": "ipython",
    "version": 3
   },
   "file_extension": ".py",
   "mimetype": "text/x-python",
   "name": "python",
   "nbconvert_exporter": "python",
   "pygments_lexer": "ipython3",
   "version": "3.6.4"
  }
 },
 "nbformat": 4,
 "nbformat_minor": 2
}
