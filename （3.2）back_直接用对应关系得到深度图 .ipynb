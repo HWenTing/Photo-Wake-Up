{
 "cells": [
  {
   "cell_type": "code",
   "execution_count": 1,
   "metadata": {},
   "outputs": [],
   "source": [
    "import numpy as np\n",
    "import matplotlib.pyplot as plt\n",
    "import time\n",
    "import cv2\n",
    "%matplotlib inline"
   ]
  },
  {
   "cell_type": "code",
   "execution_count": 2,
   "metadata": {},
   "outputs": [],
   "source": [
    "path = 'photo\\p0\\\\'"
   ]
  },
  {
   "cell_type": "code",
   "execution_count": 3,
   "metadata": {},
   "outputs": [],
   "source": [
    "# corresponding_in = np.load(path+'tps_back_small_corresponding_in.npy')#17651\n",
    "corresponding_in = np.load(path+'back_small_corresponding_in.npy')#17651\n",
    "lis =np.load(path+'back_small_corresponding_contours.npy')\n",
    "data1 = np.load(path+'back_small_contours.npy')\n",
    "data2 = np.load(path+'back_small_contours_smpl.npy')"
   ]
  },
  {
   "cell_type": "code",
   "execution_count": 4,
   "metadata": {},
   "outputs": [],
   "source": [
    "# depthMap = np.load('G:/ipython工作空间/实训wakeup/depthallsmpl.npy')\n",
    "depthMap =cv2.imread(path+'depthMapBack.png',0)"
   ]
  },
  {
   "cell_type": "code",
   "execution_count": 5,
   "metadata": {},
   "outputs": [
    {
     "data": {
      "text/plain": [
       "(220, 195)"
      ]
     },
     "execution_count": 5,
     "metadata": {},
     "output_type": "execute_result"
    }
   ],
   "source": [
    "depthMap.shape"
   ]
  },
  {
   "cell_type": "code",
   "execution_count": 6,
   "metadata": {},
   "outputs": [
    {
     "data": {
      "text/plain": [
       "True"
      ]
     },
     "execution_count": 6,
     "metadata": {},
     "output_type": "execute_result"
    }
   ],
   "source": [
    "newPng_origin = np.mat(np.zeros((depthMap.shape)))\n",
    "for i in corresponding_in:\n",
    "    newPng_origin[i[0][1],i[0][0]] = depthMap[i[1][1], i[1][0]]\n",
    "    \n",
    "for i in lis:\n",
    "    newPng_origin[data1[int(i[0])][1],data1[int(i[0])][0]] = depthMap[data2[int(i[1])][1], data2[int(i[1])][0]]\n",
    "    \n",
    "newPng_origin_array = newPng_origin.A\n",
    "cv2.imwrite(path+\"back_newPng_origin.png\", newPng_origin_array)\n",
    "# cv2.imwrite(path+\"tps_back_newPng_origin.png\", newPng_origin_array)"
   ]
  },
  {
   "cell_type": "code",
   "execution_count": null,
   "metadata": {},
   "outputs": [],
   "source": []
  },
  {
   "cell_type": "code",
   "execution_count": null,
   "metadata": {},
   "outputs": [],
   "source": []
  }
 ],
 "metadata": {
  "kernelspec": {
   "display_name": "Python 3",
   "language": "python",
   "name": "python3"
  },
  "language_info": {
   "codemirror_mode": {
    "name": "ipython",
    "version": 3
   },
   "file_extension": ".py",
   "mimetype": "text/x-python",
   "name": "python",
   "nbconvert_exporter": "python",
   "pygments_lexer": "ipython3",
   "version": "3.6.4"
  }
 },
 "nbformat": 4,
 "nbformat_minor": 2
}
