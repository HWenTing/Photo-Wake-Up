{
 "cells": [
  {
   "cell_type": "code",
   "execution_count": 1,
   "metadata": {},
   "outputs": [],
   "source": [
    "import numpy as np\n",
    "import cv2"
   ]
  },
  {
   "cell_type": "code",
   "execution_count": 2,
   "metadata": {},
   "outputs": [],
   "source": [
    "# im = cv2.imread('kuli_mask.png')\n",
    "path = 'photo\\p0\\\\'\n",
    "im = cv2.imread(path+'s_p_mask.png')\n",
    "imgray = cv2.cvtColor(im,cv2.COLOR_BGR2GRAY)\n",
    "ret,thresh = cv2.threshold(imgray,100,255,0)#findContours函数修改原图\n",
    "#cv2.findContours()函数的三个参数,第一个是原图，第二个是轮廓获取方式，第三个是轮廓近似方法。\n",
    "# img, contours, hierarchy = cv2.findContours(thresh,cv2.RETR_TREE,cv2.CHAIN_APPROX_SIMPLE)\n",
    "img, contours, hierarchy = cv2.findContours(thresh,cv2.RETR_TREE,cv2.CHAIN_APPROX_NONE)\n",
    "\n",
    "# im_smpl = cv2.imread('kuli_hmlSMPL.png')\n",
    "im_smpl = cv2.imread(path+'hmlSMPL.png')\n",
    "imgray_smpl = cv2.cvtColor(im_smpl,cv2.COLOR_BGR2GRAY)\n",
    "ret_smpl,thresh_smpl = cv2.threshold(imgray_smpl,100,255,0)#findContours函数修改原图\n",
    "# img_smpl, contours_smpl, hierarchy_smpl = cv2.findContours(thresh_smpl,cv2.RETR_TREE,cv2.CHAIN_APPROX_SIMPLE)\n",
    "img_smpl, contours_smpl, hierarchy_smpl = cv2.findContours(thresh_smpl,cv2.RETR_TREE,cv2.CHAIN_APPROX_NONE)"
   ]
  },
  {
   "cell_type": "code",
   "execution_count": 3,
   "metadata": {},
   "outputs": [
    {
     "name": "stdout",
     "output_type": "stream",
     "text": [
      "845\n",
      "797\n"
     ]
    }
   ],
   "source": [
    "# 将点处理为便于使用的形式 nx2\n",
    "contours = np.array(contours[0])\n",
    "contours = contours.reshape(len(contours),2)\n",
    "print(len(contours[:,0]))\n",
    "contours_smpl = np.array(contours_smpl[0])\n",
    "contours_smpl = contours_smpl.reshape(len(contours_smpl),2)\n",
    "print(len(contours_smpl[:,0]))"
   ]
  },
  {
   "cell_type": "code",
   "execution_count": 4,
   "metadata": {},
   "outputs": [
    {
     "data": {
      "text/plain": [
       "array([[28, 14],\n",
       "       [28, 15],\n",
       "       [29, 15],\n",
       "       ...,\n",
       "       [31, 15],\n",
       "       [30, 15],\n",
       "       [29, 14]], dtype=int32)"
      ]
     },
     "execution_count": 4,
     "metadata": {},
     "output_type": "execute_result"
    }
   ],
   "source": [
    "contours"
   ]
  },
  {
   "cell_type": "code",
   "execution_count": 5,
   "metadata": {},
   "outputs": [
    {
     "data": {
      "image/png": "[encoded data removed]",
      "text/plain": [
       "<matplotlib.figure.Figure at 0x2964e69ceb8>"
      ]
     },
     "metadata": {},
     "output_type": "display_data"
    }
   ],
   "source": [
    "import matplotlib.pyplot as plt\n",
    "%matplotlib inline\n",
    "# 画出散点图\n",
    "\n",
    "i=1300\n",
    "\n",
    "    \n",
    "plt.scatter(contours[:i,0], contours[:i,1])\n",
    "\n",
    "plt.scatter(contours_smpl[:i,0], contours_smpl[:i,1])\n",
    "plt.show()"
   ]
  },
  {
   "cell_type": "code",
   "execution_count": 6,
   "metadata": {},
   "outputs": [],
   "source": [
    "# np.save('contours.npy',contours )\n",
    "# np.save('contours_smpl.npy',contours_smpl )\n",
    "np.save(path+'small_contours.npy',contours )\n",
    "np.save(path+'small_contours_smpl.npy',contours_smpl )"
   ]
  },
  {
   "cell_type": "code",
   "execution_count": 7,
   "metadata": {},
   "outputs": [],
   "source": [
    "def get_contours(path):\n",
    "    \n",
    "    im = cv2.imread(path)\n",
    "    imgray = cv2.cvtColor(im,cv2.COLOR_BGR2GRAY)\n",
    "    ret,thresh = cv2.threshold(imgray,100,255,0)\n",
    "    img, contours, hierarchy = cv2.findContours(thresh,cv2.RETR_TREE,cv2.CHAIN_APPROX_NONE)\n",
    "    print( len(cv2.findContours(thresh,cv2.RETR_TREE,cv2.CHAIN_APPROX_NONE)))\n",
    "    contours = np.array(contours[0])\n",
    "    contours = contours.reshape(len(contours),2)\n",
    "    return contours"
   ]
  },
  {
   "cell_type": "code",
   "execution_count": null,
   "metadata": {},
   "outputs": [],
   "source": []
  },
  {
   "cell_type": "code",
   "execution_count": null,
   "metadata": {},
   "outputs": [],
   "source": []
  }
 ],
 "metadata": {
  "kernelspec": {
   "display_name": "Python 3",
   "language": "python",
   "name": "python3"
  },
  "language_info": {
   "codemirror_mode": {
    "name": "ipython",
    "version": 3
   },
   "file_extension": ".py",
   "mimetype": "text/x-python",
   "name": "python",
   "nbconvert_exporter": "python",
   "pygments_lexer": "ipython3",
   "version": "3.6.4"
  }
 },
 "nbformat": 4,
 "nbformat_minor": 2
}
